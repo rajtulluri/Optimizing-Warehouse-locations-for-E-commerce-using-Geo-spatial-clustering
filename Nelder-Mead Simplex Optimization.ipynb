{
 "cells": [
  {
   "cell_type": "code",
   "execution_count": null,
   "id": "3eb872d5-2211-403f-aa04-6b4328096367",
   "metadata": {},
   "outputs": [],
   "source": [
    "import pandas as pd\n",
    "import numpy as np\n",
    "from math import radians\n",
    "import folium\n",
    "import requests\n",
    "from scipy.optimize import minimize\n",
    "from time import time\n",
    "from tqdm.notebook import tqdm"
   ]
  },
  {
   "cell_type": "markdown",
   "id": "3d60cd35-6bef-44ee-b4ab-f533073c274f",
   "metadata": {},
   "source": [
    "<h1>Nelder-Mead Simplex optimization</h1>"
   ]
  },
  {
   "cell_type": "markdown",
   "id": "96bbd7bb-1872-49eb-94d2-4831a398b4a7",
   "metadata": {},
   "source": [
    "<h2>Reading dataset</h2>\n",
    "For the purpose of the experiment, the results are only shown for a particular cluster."
   ]
  },
  {
   "cell_type": "code",
   "execution_count": null,
   "id": "56e291dc-2eef-4388-aa26-65fa18a20326",
   "metadata": {},
   "outputs": [],
   "source": [
    "df = pd.read_csv('./Olist_data/clusters_new_features.csv', index_col= 0)\n",
    "df.head(5)"
   ]
  },
  {
   "cell_type": "code",
   "execution_count": null,
   "id": "bd295873-e9d1-4a14-82f8-c3b788a7b571",
   "metadata": {},
   "outputs": [],
   "source": [
    "c1 = df[df.CLUSTER_hdbscan == 86]"
   ]
  },
  {
   "cell_type": "markdown",
   "id": "7b8c1ced-9d59-4436-9ccb-94bf3a9414bd",
   "metadata": {},
   "source": [
    "<h2>Plotting cluster on a map</h2>"
   ]
  },
  {
   "cell_type": "code",
   "execution_count": null,
   "id": "283426c0-f575-4ebb-8716-78d3f654c365",
   "metadata": {},
   "outputs": [],
   "source": [
    "mapf = folium.Map(\n",
    "    location= [c1.geolocation_lat.mean(),c1.geolocation_lng.mean()],\n",
    "    zoom_start = 10.5,\n",
    "    tiles= 'OpenStreetMap',\n",
    "    height= 550\n",
    ")\n",
    "\n",
    "circles= c1.apply(\n",
    "    lambda row: folium.CircleMarker(\n",
    "        location= [row.geolocation_lat, row.geolocation_lng],\n",
    "        radius= 1,\n",
    "        popup= \"\"+str(row.geolocation_lat)+\", \"+str(row.geolocation_lng)+\"\\n\"+str(row.CLUSTER_hdbscan),\n",
    "        color= 'darkcyan',\n",
    "        fill= True,\n",
    "        fill_color= 'darkcyan',\n",
    "        fill_opacity=0.5\n",
    "    ).add_to(mapf),\n",
    "    axis= 1\n",
    ")\n",
    "\n",
    "rect= folium.Rectangle(\n",
    "    bounds= [(c1.geolocation_lat.min(),c1.geolocation_lng.min()),(c1.geolocation_lat.max(), c1.geolocation_lng.max())]\n",
    ").add_to(mapf)\n",
    "\n",
    "cluster= folium.CircleMarker(\n",
    "    location= [c1.centroid_lat.values[0],c1.centroid_lng.values[0]],\n",
    "    radius= 5,\n",
    "    color= 'tomato',\n",
    "    fill= True,\n",
    "    fill_color= 'tomato',\n",
    "    fill_opacity=0.5\n",
    ").add_to(mapf)\n",
    "\n",
    "\n",
    "mapf"
   ]
  },
  {
   "cell_type": "markdown",
   "id": "319d3470-ace5-4b98-9402-9d1018c1e7b7",
   "metadata": {},
   "source": [
    "<h2>Feature engineering functions</h2>\n",
    "Functions to calculate Haversine distance and retrieve road distance and road duration using Google Maps API"
   ]
  },
  {
   "cell_type": "code",
   "execution_count": null,
   "id": "ef755d29-a0ab-47c8-a3b4-0b36d6797345",
   "metadata": {},
   "outputs": [],
   "source": [
    "maps_api_key = 'ENTER YOUR API KEY'\n",
    "endpoint = 'https://maps.googleapis.com/maps/api/directions/json?'\n",
    "\n",
    "def get_distance_duration(origin, destination, mode = 'driving'):\n",
    "    origin_str = f'{origin[0]},{origin[1]}'\n",
    "    destination_str = f'{destination[0]},{destination[1]}'\n",
    "    request_url = f'{endpoint}origin={origin_str}&destination={destination_str}&mode={mode}&key={maps_api_key}'\n",
    "    response = requests.get(request_url)\n",
    "    data = response.json()\n",
    "    \n",
    "    if data['status'] == 'OK':\n",
    "        road_distance_meters = data['routes'][0]['legs'][0]['distance']['value']\n",
    "        road_duration_seconds = data['routes'][0]['legs'][0]['duration']['value']\n",
    "\n",
    "        return road_distance_meters/1000, road_duration_seconds/3600\n",
    "        \n",
    "    else:\n",
    "        print('Error: Unable to calculate road distance and duration.')\n",
    "        return None\n",
    "\n",
    "def haversine(latlon1, latlon2):\n",
    "    lat1, lon1 = latlon1\n",
    "    lat2, lon2 = latlon2\n",
    "    R = 6371000  # radius of Earth in meters\n",
    "    phi_1 = radians(lat1)\n",
    "    phi_2 = radians(lat2)\n",
    "\n",
    "    delta_phi = radians(lat2 - lat1)\n",
    "    delta_lambda = radians(lon2 - lon1)\n",
    "\n",
    "    a = (np.sin(delta_phi / 2) ** 2 +\n",
    "         np.cos(phi_1) * np.cos(phi_2) * np.sin(delta_lambda / 2) ** 2)\n",
    "\n",
    "    c = 2 * np.arctan2(np.sqrt(a), np.sqrt(1 - a))\n",
    "\n",
    "    meters = R * c  \n",
    "    return meters/1000 # output distance in km"
   ]
  },
  {
   "cell_type": "markdown",
   "id": "92510d53-18ee-4009-bdd1-baac25b7c2c0",
   "metadata": {},
   "source": [
    "<h2>Nelder-Mead simplex optimizer class</h2>\n",
    "Functions wrapped in a class to apply the optimizer to custom dataset."
   ]
  },
  {
   "cell_type": "code",
   "execution_count": null,
   "id": "adb684ef-28a4-4cc7-9a2d-b69bf4c76f44",
   "metadata": {},
   "outputs": [],
   "source": [
    "class NelderMeadOptimizer():\n",
    "    PARAM_BOUNDS = (0,10)\n",
    "    \n",
    "    def __init__(self, lat_bounds, long_bounds, customer_locations, max_iter):\n",
    "        self.LAT_BOUNDS = lat_bounds\n",
    "        self.LON_BOUNDS = long_bounds\n",
    "        self.customer_locations = customer_locations\n",
    "        self.max_iter = max_iter\n",
    "        \n",
    "        \n",
    "    def initialize_guess(self):\n",
    "        vector = np.random.uniform(\n",
    "            [self.LAT_BOUNDS[0], self.LON_BOUNDS[0]] + [NelderMeadOptimizer.PARAM_BOUNDS[0]] * 3,\n",
    "            [self.LAT_BOUNDS[1], self.LON_BOUNDS[1]] + [NelderMeadOptimizer.PARAM_BOUNDS[1]] * 3,\n",
    "        )\n",
    "        return vector\n",
    "\n",
    "\n",
    "    def update_features(self, new_location, customer_locations):\n",
    "        dist = []\n",
    "        dur = []\n",
    "        hav = []\n",
    "        origin = (new_location[0], new_location[1])\n",
    "    \n",
    "        for loc in customer_locations:\n",
    "            data = get_distance_duration(origin, tuple(loc))\n",
    "            \n",
    "            if data:\n",
    "                hav.append(haversine(origin, tuple(loc)))\n",
    "                dist.append(data[0])\n",
    "                dur.append(data[1])\n",
    "    \n",
    "        return pd.Series(hav), pd.Series(dist), pd.Series(dur)\n",
    "\n",
    "\n",
    "    def cost_function(self, position, lambda_reg=0.01, epsilon=1e-6):\n",
    "        latitude, longitude, alpha, beta, gamma = position\n",
    "        haversine_distances, road_distances, road_durations = self.update_features(position, self.customer_locations)\n",
    "    \n",
    "        cost = (1 / len(haversine_distances)) * sum(\n",
    "            alpha * haversine_distances +\n",
    "            beta * road_distances +\n",
    "            gamma * road_durations\n",
    "        ) + lambda_reg * (alpha**2 + beta**2 + gamma**2)\n",
    "    \n",
    "        log_penalty = -np.sum(np.log(np.array([alpha, beta, gamma]) + epsilon))\n",
    "        cost = cost + log_penalty\n",
    "    \n",
    "        return cost\n",
    "\n",
    "    def fit_train(self):\n",
    "        options = {\n",
    "            'maxiter': self.max_iter\n",
    "        }\n",
    "        self.initial_guess = self.initialize_guess()\n",
    "        result = minimize(self.cost_function, self.initial_guess, method='Nelder-Mead', options= options)\n",
    "        return result"
   ]
  },
  {
   "cell_type": "code",
   "execution_count": null,
   "id": "392ddca9-1e35-44bf-a548-d4351cb957d9",
   "metadata": {},
   "outputs": [],
   "source": [
    "nmo = NelderMeadOptimizer(\n",
    "    lat_bounds= (c1.geolocation_lat.min(), c1.geolocation_lat.max()),\n",
    "    long_bounds= (c1.geolocation_lng.min(), c1.geolocation_lng.max()),\n",
    "    customer_locations= np.c_[np.array(c1.geolocation_lat), np.array(c1.geolocation_lng)],\n",
    "    max_iter= 5\n",
    ")\n",
    "\n",
    "result = nmo.fit_train()\n",
    "result"
   ]
  },
  {
   "cell_type": "markdown",
   "id": "c6782364-5380-4361-b01b-0bdd70ef722b",
   "metadata": {},
   "source": [
    "<h2>Cost and performance vs multiple iterations</h2>"
   ]
  },
  {
   "cell_type": "code",
   "execution_count": null,
   "id": "946f3fc7-9469-4454-90a8-62e1d2b3833b",
   "metadata": {},
   "outputs": [],
   "source": [
    "params = np.arange(2,25,2)\n",
    "best_loc = []\n",
    "best_score = []\n",
    "path = []\n",
    "performance = []\n",
    "\n",
    "for iter in tqdm(params):\n",
    "    nmo = NelderMeadOptimizer(\n",
    "        lat_bounds= (c1.geolocation_lat.min(), c1.geolocation_lat.max()),\n",
    "        long_bounds= (c1.geolocation_lng.min(), c1.geolocation_lng.max()),\n",
    "        customer_locations= np.c_[np.array(c1.geolocation_lat), np.array(c1.geolocation_lng)],\n",
    "        max_iter= iter\n",
    "    )\n",
    "    start = time()\n",
    "    result = nmo.fit_train()\n",
    "    stop = time()\n",
    "    \n",
    "    best_loc.append(result.x) \n",
    "    best_score.append(result.fun) \n",
    "    performance.append(stop - start)"
   ]
  },
  {
   "cell_type": "markdown",
   "id": "b728dd48-5ec1-4850-85fb-72eb6eaa9772",
   "metadata": {},
   "source": [
    "<h2>Plotting new warehouse location on map</h2>"
   ]
  },
  {
   "cell_type": "code",
   "execution_count": null,
   "id": "e2f4d866-7cd0-407f-9007-6bf4b5b21939",
   "metadata": {},
   "outputs": [],
   "source": [
    "mapf = folium.Map(\n",
    "    location= [c1.geolocation_lat.mean(),c1.geolocation_lng.mean()],\n",
    "    zoom_start = 11.5,\n",
    "    tiles= 'OpenStreetMap',\n",
    "    height= 650\n",
    ")\n",
    "\n",
    "circles= c1.apply(\n",
    "    lambda row: folium.CircleMarker(\n",
    "        location= [row.geolocation_lat, row.geolocation_lng],\n",
    "        radius= 1,\n",
    "        popup= \"\"+str(row.geolocation_lat)+\", \"+str(row.geolocation_lng)+\"\\n\"+str(row.CLUSTER_hdbscan),\n",
    "        color= 'darkcyan',\n",
    "        fill= True,\n",
    "        fill_color= 'darkcyan',\n",
    "        fill_opacity=0.5\n",
    "    ).add_to(mapf),\n",
    "    axis= 1\n",
    ")\n",
    "\n",
    "rect= folium.Rectangle(\n",
    "    bounds= [(c1.geolocation_lat.min(),c1.geolocation_lng.min()),(c1.geolocation_lat.max(), c1.geolocation_lng.max())]\n",
    ").add_to(mapf)\n",
    "\n",
    "cluster1= folium.CircleMarker(\n",
    "    location= [c1.centroid_lat.values[0],c1.centroid_lng.values[0]],\n",
    "    radius= 4052.7209882681345/120,\n",
    "    color= 'tomato',\n",
    "    fill= True,\n",
    "    fill_color= 'tomato',\n",
    "    fill_opacity=0.5\n",
    ").add_to(mapf)\n",
    "\n",
    "cluster2= folium.CircleMarker(\n",
    "    location= [-16.676760, -49.298581],\n",
    "    radius= 109.855445/10,\n",
    "    color= 'magenta',\n",
    "    fill= True,\n",
    "    fill_color= 'magenta',\n",
    "    fill_opacity=0.5\n",
    ").add_to(mapf)\n",
    "\n",
    "mapf"
   ]
  },
  {
   "cell_type": "markdown",
   "id": "62245231-dc76-4f47-a4c9-001682c996e3",
   "metadata": {},
   "source": [
    "<h2>Bootstrapping algorithm</h2>"
   ]
  },
  {
   "cell_type": "code",
   "execution_count": null,
   "id": "b31a24a8-f2e4-4812-be4c-36462a1735ca",
   "metadata": {},
   "outputs": [],
   "source": [
    "score = []\n",
    "position = []\n",
    "perf= []\n",
    "\n",
    "def bootstrap_results(num_boot=100):\n",
    "    for i in tqdm(range(num_boot)):\n",
    "        sub_sample = c1.sample(n= len(c1), replace= True, random_state= 12)\n",
    "        nmo = NelderMeadOptimizer(\n",
    "            lat_bounds= (c1.geolocation_lat.min(), c1.geolocation_lat.max()),\n",
    "            long_bounds= (c1.geolocation_lng.min(), c1.geolocation_lng.max()),\n",
    "            customer_locations= np.c_[np.array(sub_sample.geolocation_lat), np.array(sub_sample.geolocation_lng)],\n",
    "            max_iter= 2\n",
    "        )\n",
    "        start = time()\n",
    "        result = nmo.fit_train()\n",
    "        stop = time()\n",
    "\n",
    "        position.append(result.x)\n",
    "        score.append(result.fun)\n",
    "        perf.append(stop-start)\n",
    "\n",
    "    return score, position, perf\n",
    "\n",
    "bootstrap_results(num_boot= 20)"
   ]
  }
 ],
 "metadata": {
  "kernelspec": {
   "display_name": "Python 3 (ipykernel)",
   "language": "python",
   "name": "python3"
  },
  "language_info": {
   "codemirror_mode": {
    "name": "ipython",
    "version": 3
   },
   "file_extension": ".py",
   "mimetype": "text/x-python",
   "name": "python",
   "nbconvert_exporter": "python",
   "pygments_lexer": "ipython3",
   "version": "3.10.9"
  }
 },
 "nbformat": 4,
 "nbformat_minor": 5
}
